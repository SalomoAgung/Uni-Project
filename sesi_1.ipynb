{
  "nbformat": 4,
  "nbformat_minor": 0,
  "metadata": {
    "colab": {
      "provenance": []
    },
    "kernelspec": {
      "name": "python3",
      "display_name": "Python 3"
    },
    "language_info": {
      "name": "python"
    }
  },
  "cells": [
    {
      "cell_type": "code",
      "source": [
        "import numpy as np\n",
        "import time\n",
        "print(time.ctime())"
      ],
      "metadata": {
        "colab": {
          "base_uri": "https://localhost:8080/"
        },
        "id": "KHH0Z6qYMxMx",
        "outputId": "068b920c-6bb1-47e6-cde2-6cab41267be8"
      },
      "execution_count": null,
      "outputs": [
        {
          "output_type": "stream",
          "name": "stdout",
          "text": [
            "Wed Feb 15 08:39:46 2023\n"
          ]
        }
      ]
    },
    {
      "cell_type": "code",
      "source": [
        "k = np.array([[1,2,3],[2,3,2]])\n",
        "print(k)"
      ],
      "metadata": {
        "colab": {
          "base_uri": "https://localhost:8080/"
        },
        "id": "lzjJUNZLRHaN",
        "outputId": "48be4e06-e50e-45bf-f4ea-51e140060da5"
      },
      "execution_count": null,
      "outputs": [
        {
          "output_type": "stream",
          "name": "stdout",
          "text": [
            "[[1 2 3]\n",
            " [2 3 2]]\n"
          ]
        }
      ]
    },
    {
      "cell_type": "code",
      "source": [
        "def pol():\n",
        "  print(\"Kucing terbang\")\n",
        "\n",
        "hah = int(input(\"Masukkan: \"))\n",
        "if hah == 1:\n",
        "  pol()"
      ],
      "metadata": {
        "colab": {
          "base_uri": "https://localhost:8080/"
        },
        "id": "hVPWr9IZLWGD",
        "outputId": "ebede572-4313-4a07-83f1-54819cea83e9"
      },
      "execution_count": null,
      "outputs": [
        {
          "output_type": "stream",
          "name": "stdout",
          "text": [
            "Masukkan: 1\n",
            "Kucing terbang\n"
          ]
        }
      ]
    },
    {
      "cell_type": "code",
      "source": [
        "def kuc(lol):\n",
        "  \"\"\"\n",
        "  bala bala mera mera gira gira\n",
        "  wandahoy\n",
        "  \"\"\"\n",
        "  if lol == 2:\n",
        "    print(lol + 3)\n",
        "  else:\n",
        "     return lol\n",
        "\n",
        "kum = int(input(\"Masukkan: \"))\n",
        "kuc(kum)"
      ],
      "metadata": {
        "colab": {
          "base_uri": "https://localhost:8080/"
        },
        "id": "Fu7Xb-V3ReEd",
        "outputId": "c6297213-536e-4432-f92d-7d720dd7c706"
      },
      "execution_count": null,
      "outputs": [
        {
          "output_type": "stream",
          "name": "stdout",
          "text": [
            "Masukkan: 2\n",
            "5\n"
          ]
        }
      ]
    },
    {
      "cell_type": "code",
      "source": [
        "def my_adder(a,b,c):\n",
        "  \"\"\"\n",
        "  function to sum the 3 numbers\n",
        "  input: 3 numbers a,b,c\n",
        "  output: the sum of of a,b,c\n",
        "  \"\"\"\n",
        "  out = a + b + c\n",
        "  return out\n",
        "\n",
        "my_adder(2,3,4)"
      ],
      "metadata": {
        "colab": {
          "base_uri": "https://localhost:8080/"
        },
        "id": "4Wq-f12tVtNK",
        "outputId": "e12dbe01-fb18-43c7-fcd5-c4e111a3cc85"
      },
      "execution_count": null,
      "outputs": [
        {
          "output_type": "execute_result",
          "data": {
            "text/plain": [
              "9"
            ]
          },
          "metadata": {},
          "execution_count": 35
        }
      ]
    },
    {
      "cell_type": "code",
      "source": [
        "help(my_adder)"
      ],
      "metadata": {
        "colab": {
          "base_uri": "https://localhost:8080/"
        },
        "id": "OAD6HGpvW0y9",
        "outputId": "2b983a00-6346-4d27-c58a-16486287e53a"
      },
      "execution_count": null,
      "outputs": [
        {
          "output_type": "stream",
          "name": "stdout",
          "text": [
            "Help on function my_adder in module __main__:\n",
            "\n",
            "my_adder(a, b, c)\n",
            "    function to sum the 3 numbers\n",
            "    input: 3 numbers a,b,c\n",
            "    output: the sum of of a,b,c\n",
            "\n"
          ]
        }
      ]
    },
    {
      "cell_type": "code",
      "source": [
        "def temp(suhu, suhuh):\n",
        "  if suhu < suhuh - 5:\n",
        "    status = \"Puanas\"\n",
        "  elif suhu > suhuh +5:\n",
        "    status = \"Nyalain AC\"\n",
        "  else:\n",
        "      status = \"matiin\"\n",
        "  return status"
      ],
      "metadata": {
        "id": "BXsd45unY0a-"
      },
      "execution_count": null,
      "outputs": []
    },
    {
      "cell_type": "code",
      "source": [
        "status = temp(65,75)\n",
        "print(status)\n",
        "\n",
        "status1 = temp(75,65)\n",
        "print(status1)\n",
        "\n",
        "status2 = temp(65,63)\n",
        "print(status2)"
      ],
      "metadata": {
        "colab": {
          "base_uri": "https://localhost:8080/"
        },
        "id": "mgs-Ie_sZVZF",
        "outputId": "542109c1-fdd1-496d-9175-67d89c6bb118"
      },
      "execution_count": null,
      "outputs": [
        {
          "output_type": "stream",
          "name": "stdout",
          "text": [
            "Puanas\n",
            "Nyalain AC\n",
            "matiin\n"
          ]
        }
      ]
    },
    {
      "cell_type": "code",
      "source": [
        "h = 3\n",
        "if h>1 and h<2:\n",
        "  g = 2\n",
        "elif h>2 and h<4:\n",
        "  g = 4\n",
        "else:\n",
        "  g = 0\n",
        "\n",
        "g"
      ],
      "metadata": {
        "colab": {
          "base_uri": "https://localhost:8080/"
        },
        "id": "zNM1kC8faaz0",
        "outputId": "a0578635-1a3b-42f6-8445-69504aaf678e"
      },
      "execution_count": null,
      "outputs": [
        {
          "output_type": "execute_result",
          "data": {
            "text/plain": [
              "4"
            ]
          },
          "metadata": {},
          "execution_count": 46
        }
      ]
    },
    {
      "cell_type": "code",
      "source": [
        "f = float(2)\n",
        "\n",
        "print(f,\"\\n\")\n",
        "print(int(f))"
      ],
      "metadata": {
        "colab": {
          "base_uri": "https://localhost:8080/"
        },
        "id": "li0TsIImN8u0",
        "outputId": "ad472def-94df-4dbd-d8c5-ee319bb7acd2"
      },
      "execution_count": null,
      "outputs": [
        {
          "output_type": "stream",
          "name": "stdout",
          "text": [
            "2.0 \n",
            "\n",
            "2\n"
          ]
        }
      ]
    },
    {
      "cell_type": "code",
      "source": [
        "o = 1\n",
        "while o < 4:\n",
        "  print(o)\n",
        "  o +=1"
      ],
      "metadata": {
        "colab": {
          "base_uri": "https://localhost:8080/"
        },
        "id": "H8_T-bHDUHns",
        "outputId": "ab1224a6-57ba-484e-d734-12c9146b0bef"
      },
      "execution_count": null,
      "outputs": [
        {
          "output_type": "stream",
          "name": "stdout",
          "text": [
            "1\n",
            "2\n",
            "3\n"
          ]
        }
      ]
    }
  ]
}