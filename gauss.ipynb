{
  "nbformat": 4,
  "nbformat_minor": 0,
  "metadata": {
    "colab": {
      "provenance": []
    },
    "kernelspec": {
      "name": "python3",
      "display_name": "Python 3"
    },
    "language_info": {
      "name": "python"
    }
  },
  "cells": [
    {
      "cell_type": "code",
      "execution_count": null,
      "metadata": {
        "id": "vDCQ1l8DQPuG"
      },
      "outputs": [],
      "source": [
        "import numpy as np"
      ]
    },
    {
      "cell_type": "code",
      "source": [
        "a = [[8,3,-3],[-2,-8,5],[3,5,10]]\n",
        "\n",
        "diag = np.diag(np.abs(a))\n",
        "\n",
        "off_diag = np.sum(np.abs(a), axis=1)-diag\n",
        "\n",
        "if np.all(diag > off_diag):\n",
        "  print('Matrix is diagonally dominant')\n",
        "else:\n",
        "  print('NOT diagonally dominant')"
      ],
      "metadata": {
        "colab": {
          "base_uri": "https://localhost:8080/"
        },
        "id": "OVZ768cXRHwH",
        "outputId": "676f42a7-8f61-46ea-deea-aadc9842e8cd"
      },
      "execution_count": null,
      "outputs": [
        {
          "output_type": "stream",
          "name": "stdout",
          "text": [
            "Matrix is diagonally dominant\n"
          ]
        }
      ]
    },
    {
      "cell_type": "code",
      "source": [
        "#@title\n",
        "x1 = 0\n",
        "x2 = 0\n",
        "x3 = 0\n",
        "epsilon = 0.01\n",
        "converged = False\n",
        "\n",
        "x_old = np.array([x1,x2,x3])"
      ],
      "metadata": {
        "id": "rWn-HQAWTl11"
      },
      "execution_count": null,
      "outputs": []
    },
    {
      "cell_type": "code",
      "source": [
        "#@title\n",
        "print(\"Iteration results\")\n",
        "print(\" k,  x1,   x2,     x3\")\n",
        "for k in range(1,50):\n",
        "  x1 = (14 - 3*x2 + 3*x3)/(8)\n",
        "  x2 = (5 + 2*x1 - 5*x3)/(-8) \n",
        "  x3 = (-8 - 3*x1 - 5*x2)/(10)\n",
        "  x = np.array([x1,x2,x3])\n",
        "\n",
        "  dx = np.sqrt(np.dot(x - x_old, x - x_old))\n",
        "\n",
        "  print(\"%d, %.4f, %.4f, %.4f\"%(k, x1,x2,x3))\n",
        "  if dx < epsilon:\n",
        "    converged = True\n",
        "    print(\"Converged!\")\n",
        "    break\n",
        "  \n",
        "  x_old = x\n",
        "\n",
        "if not converged:\n",
        "  print(\"Not converged, increase the # of iteration\")"
      ],
      "metadata": {
        "colab": {
          "base_uri": "https://localhost:8080/"
        },
        "id": "0hy1qzQtUjbM",
        "outputId": "aaf5edf5-a717-4527-af68-9184ba63707c"
      },
      "execution_count": null,
      "outputs": [
        {
          "output_type": "stream",
          "name": "stdout",
          "text": [
            "Iteration results\n",
            " k,  x1,   x2,     x3\n",
            "1, 2.0888, -1.5534, -0.6499\n",
            "Converged!\n"
          ]
        }
      ]
    },
    {
      "cell_type": "code",
      "source": [],
      "metadata": {
        "id": "Zq0gb3KmXqbE"
      },
      "execution_count": null,
      "outputs": []
    }
  ]
}